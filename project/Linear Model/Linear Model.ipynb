{
 "cells": [
  {
   "cell_type": "raw",
   "metadata": {},
   "source": [
    "Loading the data sets and libraries"
   ]
  },
  {
   "cell_type": "code",
   "execution_count": 1,
   "metadata": {},
   "outputs": [],
   "source": [
    "import pandas as pd\n",
    "import numpy as np\n",
    "import math\n",
    "import matplotlib.pyplot as plt\n",
    "import sklearn \n",
    "from sklearn import preprocessing\n",
    "from sklearn import metrics\n",
    "from sklearn.linear_model import Ridge\n",
    "from sklearn.preprocessing import MinMaxScaler\n",
    "%matplotlib inline"
   ]
  },
  {
   "cell_type": "code",
   "execution_count": 2,
   "metadata": {},
   "outputs": [],
   "source": [
    "train= pd.read_csv('train.csv')\n",
    "test=pd.read_csv('test.csv')\n",
    "test[\"playtime_forever\"]=0\n",
    "data = pd.concat([train,test],axis=0, sort=False)\n",
    "data.fillna(0, inplace=True)"
   ]
  },
  {
   "cell_type": "raw",
   "metadata": {},
   "source": [
    "Omitting features and transforming the string into array."
   ]
  },
  {
   "cell_type": "code",
   "execution_count": 3,
   "metadata": {},
   "outputs": [],
   "source": [
    "del data['id']\n",
    "del data['is_free']\n",
    "\n",
    "\n",
    "dummy1 = data[\"genres\"].str.get_dummies(\",\")\n",
    "del data[\"genres\"]\n",
    "\n",
    "dummy2 = data[\"categories\"].str.get_dummies(\",\")\n",
    "del data[\"categories\"]\n",
    "\n",
    "dummy3=data[\"tags\"].str.get_dummies(\",\")\n",
    "test_dummy3=test[\"tags\"].str.get_dummies(\",\")\n",
    "del data[\"tags\"]\n",
    "\n",
    "for var in dummy1.columns:\n",
    "    if var in dummy2.columns:\n",
    "        del dummy1[var]\n",
    "    if var in dummy3.columns:\n",
    "        del dummy1[var]\n",
    "for var in dummy2.columns:\n",
    "    if var in dummy3.columns:\n",
    "        del dummy2[var]"
   ]
  },
  {
   "cell_type": "raw",
   "metadata": {},
   "source": [
    "Dealing with datetime variables"
   ]
  },
  {
   "cell_type": "code",
   "execution_count": 4,
   "metadata": {
    "scrolled": true
   },
   "outputs": [
    {
     "data": {
      "text/plain": [
       "(array([], dtype=int64), array([], dtype=int64))"
      ]
     },
     "execution_count": 4,
     "metadata": {},
     "output_type": "execute_result"
    }
   ],
   "source": [
    "# operate datetime variable\n",
    "a=pd.to_datetime(data[\"purchase_date\"])\n",
    "b=pd.datetime(2019,11,1)-a\n",
    "#b=a-pd.datetime(2009,11,1)\n",
    "data[\"purchase_date\"]=b.astype('timedelta64[D]')\n",
    "#A=pd.to_datetime(test_merge[\"purchase_date\"])\n",
    "#B=pd.datetime(2019,11,1)-A\n",
    "#test_merge[\"purchase_date\"]=B.astype('timedelta64[D]')\n",
    "\n",
    "a=pd.to_datetime(data[\"release_date\"])\n",
    "b=pd.datetime(2019,11,1)-a\n",
    "#b=a-pd.datetime(2009,11,1)\n",
    "data[\"release_date\"]=b.astype('timedelta64[D]')\n",
    "#A=pd.to_datetime(test_merge[\"release_date\"])\n",
    "#B=pd.datetime(2019,11,1)-A\n",
    "#test_merge[\"release_date\"]=b.astype('timedelta64[D]')\n",
    "np.where(np.isnan(data))"
   ]
  },
  {
   "cell_type": "raw",
   "metadata": {},
   "source": [
    "Spiltting the training data and test data"
   ]
  },
  {
   "cell_type": "code",
   "execution_count": 5,
   "metadata": {},
   "outputs": [],
   "source": [
    "y=data[\"playtime_forever\"].values\n",
    "del data[\"playtime_forever\"]"
   ]
  },
  {
   "cell_type": "code",
   "execution_count": 6,
   "metadata": {},
   "outputs": [],
   "source": [
    "array_data=data.values\n",
    "array_tag=dummy1.values\n",
    "array_tag2=dummy2.values\n",
    "array_tag3=dummy3.values\n",
    "x=np.hstack([array_data,array_tag,array_tag2,array_tag3])\n",
    "x_train,x_test=x[:357],x[357:]\n",
    "y_train,y_test=y[:357],y[357:]\n",
    "y_train=y_train.reshape(-1,1)\n",
    "y_test=y_test.reshape(-1,1)"
   ]
  },
  {
   "cell_type": "raw",
   "metadata": {},
   "source": [
    "Normalizing the data"
   ]
  },
  {
   "cell_type": "code",
   "execution_count": 7,
   "metadata": {},
   "outputs": [],
   "source": [
    "#x_train,x_val,y_train,y_val = train_test_split(x_train,y_train,train_size=0.9)\n",
    "std_x = MinMaxScaler() \n",
    "x_train = std_x.fit_transform(x_train)\n",
    "#x_val = std_x.transform(x_val)\n",
    "x_test = std_x.transform(x_test)\n",
    " \n",
    "std_y  = MinMaxScaler() \n",
    "y_train = std_y.fit_transform(y_train)\n",
    "#y_val = std_y.transform(y_val)"
   ]
  },
  {
   "cell_type": "raw",
   "metadata": {},
   "source": [
    "Building the model and training"
   ]
  },
  {
   "cell_type": "code",
   "execution_count": 8,
   "metadata": {},
   "outputs": [
    {
     "name": "stdout",
     "output_type": "stream",
     "text": [
      "均方误差为： 14.457051118972666\n"
     ]
    }
   ],
   "source": [
    "rd1= Ridge(alpha=0.3)\n",
    " \n",
    "rd1.fit(x_train,y_train)\n",
    " \n",
    "y_rd_predict2 = rd1.predict(x_train)\n",
    " \n",
    "y_rd_predict2 = std_y.inverse_transform(y_rd_predict2)\n",
    "y_rd_predict2=(y_rd_predict2>0)*y_rd_predict2\n",
    "print(\"均方误差为：\",metrics.mean_squared_error(y_rd_predict2,std_y.inverse_transform(y_train)))"
   ]
  },
  {
   "cell_type": "raw",
   "metadata": {},
   "source": [
    "Predicting the values on test data and saving a csv file."
   ]
  },
  {
   "cell_type": "code",
   "execution_count": 9,
   "metadata": {},
   "outputs": [],
   "source": [
    "y_predict2 = rd1.predict(x_test)\n",
    " \n",
    "y_predict2 = std_y.inverse_transform(y_predict2)\n",
    "y_predict2=(y_predict2>0)*y_predict2\n",
    "b=np.arange(90).reshape(90,1)\n",
    "c=np.c_[b,y_predict2]\n",
    "np.savetxt('predict.csv', c, delimiter = ',')"
   ]
  },
  {
   "cell_type": "code",
   "execution_count": null,
   "metadata": {},
   "outputs": [],
   "source": []
  }
 ],
 "metadata": {
  "kernelspec": {
   "display_name": "Python 3",
   "language": "python",
   "name": "python3"
  },
  "language_info": {
   "codemirror_mode": {
    "name": "ipython",
    "version": 3
   },
   "file_extension": ".py",
   "mimetype": "text/x-python",
   "name": "python",
   "nbconvert_exporter": "python",
   "pygments_lexer": "ipython3",
   "version": "3.7.4"
  }
 },
 "nbformat": 4,
 "nbformat_minor": 2
}
