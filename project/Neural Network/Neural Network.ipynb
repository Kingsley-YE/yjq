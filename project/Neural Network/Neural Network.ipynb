{
 "cells": [
  {
   "cell_type": "raw",
   "metadata": {},
   "source": [
    "Loading the data sets and libraries"
   ]
  },
  {
   "cell_type": "code",
   "execution_count": 10,
   "metadata": {},
   "outputs": [],
   "source": [
    "import pandas as pd\n",
    "import numpy as np\n",
    "import tensorflow as tf\n",
    "import matplotlib.pyplot as plt\n",
    "from sklearn import preprocessing\n",
    "from sklearn.preprocessing import MinMaxScaler\n",
    "from tensorflow import keras\n",
    "%matplotlib inline"
   ]
  },
  {
   "cell_type": "code",
   "execution_count": 11,
   "metadata": {},
   "outputs": [],
   "source": [
    "train= pd.read_csv('train.csv')\n",
    "test=pd.read_csv('test.csv')\n",
    "test[\"playtime_forever\"]=0\n",
    "data = pd.concat([train,test],axis=0, sort=False)\n",
    "data.fillna(0, inplace=True)"
   ]
  },
  {
   "cell_type": "raw",
   "metadata": {},
   "source": [
    "Omitting features and transforming the string into array."
   ]
  },
  {
   "cell_type": "code",
   "execution_count": 12,
   "metadata": {},
   "outputs": [],
   "source": [
    "del data['id']\n",
    "del data['is_free']\n",
    "\n",
    "\n",
    "dummy1 = data[\"genres\"].str.get_dummies(\",\")\n",
    "del data[\"genres\"]\n",
    "\n",
    "dummy2 = data[\"categories\"].str.get_dummies(\",\")\n",
    "del data[\"categories\"]\n",
    "\n",
    "dummy3=data[\"tags\"].str.get_dummies(\",\")\n",
    "test_dummy3=test[\"tags\"].str.get_dummies(\",\")\n",
    "del data[\"tags\"]\n",
    "\n",
    "for var in dummy1.columns:\n",
    "    if var in dummy2.columns:\n",
    "        del dummy1[var]\n",
    "    if var in dummy3.columns:\n",
    "        del dummy1[var]\n",
    "for var in dummy2.columns:\n",
    "    if var in dummy3.columns:\n",
    "        del dummy2[var]"
   ]
  },
  {
   "cell_type": "raw",
   "metadata": {},
   "source": [
    "Dealing with datetime variables"
   ]
  },
  {
   "cell_type": "code",
   "execution_count": 13,
   "metadata": {
    "scrolled": true
   },
   "outputs": [
    {
     "data": {
      "text/plain": [
       "(array([], dtype=int64), array([], dtype=int64))"
      ]
     },
     "execution_count": 13,
     "metadata": {},
     "output_type": "execute_result"
    }
   ],
   "source": [
    "# operate datetime variable\n",
    "a=pd.to_datetime(data[\"purchase_date\"])\n",
    "b=pd.datetime(2019,11,1)-a\n",
    "#b=a-pd.datetime(2009,11,1)\n",
    "data[\"purchase_date\"]=b.astype('timedelta64[D]')\n",
    "#A=pd.to_datetime(test_merge[\"purchase_date\"])\n",
    "#B=pd.datetime(2019,11,1)-A\n",
    "#test_merge[\"purchase_date\"]=B.astype('timedelta64[D]')\n",
    "\n",
    "a=pd.to_datetime(data[\"release_date\"])\n",
    "b=pd.datetime(2019,11,1)-a\n",
    "#b=a-pd.datetime(2009,11,1)\n",
    "data[\"release_date\"]=b.astype('timedelta64[D]')\n",
    "#A=pd.to_datetime(test_merge[\"release_date\"])\n",
    "#B=pd.datetime(2019,11,1)-A\n",
    "#test_merge[\"release_date\"]=b.astype('timedelta64[D]')\n",
    "np.where(np.isnan(data))"
   ]
  },
  {
   "cell_type": "raw",
   "metadata": {},
   "source": [
    "Spiltting the training data and test data"
   ]
  },
  {
   "cell_type": "code",
   "execution_count": 14,
   "metadata": {},
   "outputs": [],
   "source": [
    "y=data[\"playtime_forever\"].values\n",
    "del data[\"playtime_forever\"]"
   ]
  },
  {
   "cell_type": "code",
   "execution_count": 15,
   "metadata": {},
   "outputs": [],
   "source": [
    "array_data=data.values\n",
    "array_tag=dummy1.values\n",
    "array_tag2=dummy2.values\n",
    "array_tag3=dummy3.values\n",
    "x=np.hstack([array_data,array_tag,array_tag2,array_tag3])\n",
    "x_train,x_test=x[:357],x[357:]\n",
    "y_train,y_test=y[:357],y[357:]\n",
    "y_train=y_train.reshape(-1,1)\n",
    "y_test=y_test.reshape(-1,1)"
   ]
  },
  {
   "cell_type": "raw",
   "metadata": {},
   "source": [
    "Normalizing the data"
   ]
  },
  {
   "cell_type": "code",
   "execution_count": 16,
   "metadata": {},
   "outputs": [],
   "source": [
    "#x_train,x_val,y_train,y_val = train_test_split(x_train,y_train,train_size=0.9)\n",
    "std_x = MinMaxScaler() \n",
    "x_train = std_x.fit_transform(x_train)\n",
    "#x_val = std_x.transform(x_val)\n",
    "x_test = std_x.transform(x_test)\n",
    " \n",
    "std_y  = MinMaxScaler() \n",
    "y_train = std_y.fit_transform(y_train)\n",
    "#y_val = std_y.transform(y_val)"
   ]
  },
  {
   "cell_type": "raw",
   "metadata": {},
   "source": [
    "Building the model and training"
   ]
  },
  {
   "cell_type": "code",
   "execution_count": 17,
   "metadata": {},
   "outputs": [
    {
     "name": "stdout",
     "output_type": "stream",
     "text": [
      "Epoch 1/100\n",
      "357/357 [==============================] - 0s 294us/sample - loss: 0.0261 - mean_squared_error: 0.0157\n",
      "Epoch 2/100\n",
      "357/357 [==============================] - 0s 64us/sample - loss: 0.0195 - mean_squared_error: 0.0111\n",
      "Epoch 3/100\n",
      "357/357 [==============================] - 0s 84us/sample - loss: 0.0168 - mean_squared_error: 0.0098\n",
      "Epoch 4/100\n",
      "357/357 [==============================] - 0s 64us/sample - loss: 0.0146 - mean_squared_error: 0.0084\n",
      "Epoch 5/100\n",
      "357/357 [==============================] - 0s 76us/sample - loss: 0.0128 - mean_squared_error: 0.0073\n",
      "Epoch 6/100\n",
      "357/357 [==============================] - 0s 73us/sample - loss: 0.0116 - mean_squared_error: 0.0065\n",
      "Epoch 7/100\n",
      "357/357 [==============================] - 0s 64us/sample - loss: 0.0105 - mean_squared_error: 0.0057\n",
      "Epoch 8/100\n",
      "357/357 [==============================] - 0s 81us/sample - loss: 0.0095 - mean_squared_error: 0.0051\n",
      "Epoch 9/100\n",
      "357/357 [==============================] - 0s 67us/sample - loss: 0.0086 - mean_squared_error: 0.0045\n",
      "Epoch 10/100\n",
      "357/357 [==============================] - 0s 73us/sample - loss: 0.0080 - mean_squared_error: 0.0041\n",
      "Epoch 11/100\n",
      "357/357 [==============================] - 0s 76us/sample - loss: 0.0075 - mean_squared_error: 0.0037\n",
      "Epoch 12/100\n",
      "357/357 [==============================] - 0s 73us/sample - loss: 0.0069 - mean_squared_error: 0.0033\n",
      "Epoch 13/100\n",
      "357/357 [==============================] - 0s 70us/sample - loss: 0.0066 - mean_squared_error: 0.0030\n",
      "Epoch 14/100\n",
      "357/357 [==============================] - 0s 70us/sample - loss: 0.0061 - mean_squared_error: 0.0028\n",
      "Epoch 15/100\n",
      "357/357 [==============================] - 0s 76us/sample - loss: 0.0058 - mean_squared_error: 0.0025\n",
      "Epoch 16/100\n",
      "357/357 [==============================] - 0s 78us/sample - loss: 0.0055 - mean_squared_error: 0.0024\n",
      "Epoch 17/100\n",
      "357/357 [==============================] - 0s 76us/sample - loss: 0.0054 - mean_squared_error: 0.0024\n",
      "Epoch 18/100\n",
      "357/357 [==============================] - 0s 76us/sample - loss: 0.0051 - mean_squared_error: 0.0021\n",
      "Epoch 19/100\n",
      "357/357 [==============================] - 0s 73us/sample - loss: 0.0048 - mean_squared_error: 0.0019\n",
      "Epoch 20/100\n",
      "357/357 [==============================] - 0s 76us/sample - loss: 0.0047 - mean_squared_error: 0.0018\n",
      "Epoch 21/100\n",
      "357/357 [==============================] - 0s 78us/sample - loss: 0.0045 - mean_squared_error: 0.0017\n",
      "Epoch 22/100\n",
      "357/357 [==============================] - 0s 73us/sample - loss: 0.0043 - mean_squared_error: 0.0017\n",
      "Epoch 23/100\n",
      "357/357 [==============================] - 0s 70us/sample - loss: 0.0042 - mean_squared_error: 0.0016\n",
      "Epoch 24/100\n",
      "357/357 [==============================] - 0s 95us/sample - loss: 0.0041 - mean_squared_error: 0.0016\n",
      "Epoch 25/100\n",
      "357/357 [==============================] - 0s 76us/sample - loss: 0.0040 - mean_squared_error: 0.0015\n",
      "Epoch 26/100\n",
      "357/357 [==============================] - 0s 78us/sample - loss: 0.0039 - mean_squared_error: 0.0015\n",
      "Epoch 27/100\n",
      "357/357 [==============================] - 0s 73us/sample - loss: 0.0038 - mean_squared_error: 0.0015\n",
      "Epoch 28/100\n",
      "357/357 [==============================] - 0s 81us/sample - loss: 0.0038 - mean_squared_error: 0.0015\n",
      "Epoch 29/100\n",
      "357/357 [==============================] - 0s 76us/sample - loss: 0.0037 - mean_squared_error: 0.0015\n",
      "Epoch 30/100\n",
      "357/357 [==============================] - 0s 78us/sample - loss: 0.0037 - mean_squared_error: 0.0015\n",
      "Epoch 31/100\n",
      "357/357 [==============================] - 0s 70us/sample - loss: 0.0036 - mean_squared_error: 0.0015\n",
      "Epoch 32/100\n",
      "357/357 [==============================] - 0s 70us/sample - loss: 0.0035 - mean_squared_error: 0.0014\n",
      "Epoch 33/100\n",
      "357/357 [==============================] - 0s 76us/sample - loss: 0.0035 - mean_squared_error: 0.0015\n",
      "Epoch 34/100\n",
      "357/357 [==============================] - 0s 78us/sample - loss: 0.0034 - mean_squared_error: 0.0015\n",
      "Epoch 35/100\n",
      "357/357 [==============================] - 0s 78us/sample - loss: 0.0034 - mean_squared_error: 0.0014\n",
      "Epoch 36/100\n",
      "357/357 [==============================] - 0s 95us/sample - loss: 0.0033 - mean_squared_error: 0.0014\n",
      "Epoch 37/100\n",
      "357/357 [==============================] - 0s 73us/sample - loss: 0.0033 - mean_squared_error: 0.0014\n",
      "Epoch 38/100\n",
      "357/357 [==============================] - 0s 70us/sample - loss: 0.0033 - mean_squared_error: 0.0014\n",
      "Epoch 39/100\n",
      "357/357 [==============================] - 0s 81us/sample - loss: 0.0033 - mean_squared_error: 0.0015\n",
      "Epoch 40/100\n",
      "357/357 [==============================] - 0s 64us/sample - loss: 0.0032 - mean_squared_error: 0.0015\n",
      "Epoch 41/100\n",
      "357/357 [==============================] - 0s 76us/sample - loss: 0.0032 - mean_squared_error: 0.0014\n",
      "Epoch 42/100\n",
      "357/357 [==============================] - 0s 81us/sample - loss: 0.0031 - mean_squared_error: 0.0014\n",
      "Epoch 43/100\n",
      "357/357 [==============================] - 0s 76us/sample - loss: 0.0031 - mean_squared_error: 0.0014\n",
      "Epoch 44/100\n",
      "357/357 [==============================] - 0s 76us/sample - loss: 0.0031 - mean_squared_error: 0.0014\n",
      "Epoch 45/100\n",
      "357/357 [==============================] - 0s 81us/sample - loss: 0.0031 - mean_squared_error: 0.0014\n",
      "Epoch 46/100\n",
      "357/357 [==============================] - 0s 81us/sample - loss: 0.0031 - mean_squared_error: 0.0014\n",
      "Epoch 47/100\n",
      "357/357 [==============================] - 0s 78us/sample - loss: 0.0030 - mean_squared_error: 0.0014\n",
      "Epoch 48/100\n",
      "357/357 [==============================] - 0s 84us/sample - loss: 0.0030 - mean_squared_error: 0.0014\n",
      "Epoch 49/100\n",
      "357/357 [==============================] - 0s 78us/sample - loss: 0.0031 - mean_squared_error: 0.0015\n",
      "Epoch 50/100\n",
      "357/357 [==============================] - 0s 78us/sample - loss: 0.0030 - mean_squared_error: 0.0014\n",
      "Epoch 51/100\n",
      "357/357 [==============================] - 0s 78us/sample - loss: 0.0030 - mean_squared_error: 0.0014\n",
      "Epoch 52/100\n",
      "357/357 [==============================] - 0s 76us/sample - loss: 0.0029 - mean_squared_error: 0.0014\n",
      "Epoch 53/100\n",
      "357/357 [==============================] - 0s 73us/sample - loss: 0.0030 - mean_squared_error: 0.0015\n",
      "Epoch 54/100\n",
      "357/357 [==============================] - 0s 87us/sample - loss: 0.0029 - mean_squared_error: 0.0014\n",
      "Epoch 55/100\n",
      "357/357 [==============================] - 0s 67us/sample - loss: 0.0029 - mean_squared_error: 0.0014\n",
      "Epoch 56/100\n",
      "357/357 [==============================] - 0s 76us/sample - loss: 0.0030 - mean_squared_error: 0.0015\n",
      "Epoch 57/100\n",
      "357/357 [==============================] - 0s 70us/sample - loss: 0.0029 - mean_squared_error: 0.0014\n",
      "Epoch 58/100\n",
      "357/357 [==============================] - 0s 73us/sample - loss: 0.0029 - mean_squared_error: 0.0014\n",
      "Epoch 59/100\n",
      "357/357 [==============================] - 0s 73us/sample - loss: 0.0029 - mean_squared_error: 0.0014\n",
      "Epoch 60/100\n",
      "357/357 [==============================] - 0s 73us/sample - loss: 0.0028 - mean_squared_error: 0.0014\n",
      "Epoch 61/100\n",
      "357/357 [==============================] - 0s 70us/sample - loss: 0.0029 - mean_squared_error: 0.0014\n",
      "Epoch 62/100\n",
      "357/357 [==============================] - 0s 67us/sample - loss: 0.0028 - mean_squared_error: 0.0014\n",
      "Epoch 63/100\n",
      "357/357 [==============================] - 0s 64us/sample - loss: 0.0029 - mean_squared_error: 0.0015\n",
      "Epoch 64/100\n",
      "357/357 [==============================] - 0s 76us/sample - loss: 0.0028 - mean_squared_error: 0.0014\n",
      "Epoch 65/100\n",
      "357/357 [==============================] - 0s 67us/sample - loss: 0.0028 - mean_squared_error: 0.0014\n",
      "Epoch 66/100\n",
      "357/357 [==============================] - 0s 67us/sample - loss: 0.0028 - mean_squared_error: 0.0014\n",
      "Epoch 67/100\n",
      "357/357 [==============================] - 0s 70us/sample - loss: 0.0029 - mean_squared_error: 0.0016\n",
      "Epoch 68/100\n",
      "357/357 [==============================] - 0s 81us/sample - loss: 0.0028 - mean_squared_error: 0.0014\n",
      "Epoch 69/100\n",
      "357/357 [==============================] - 0s 76us/sample - loss: 0.0028 - mean_squared_error: 0.0014\n",
      "Epoch 70/100\n",
      "357/357 [==============================] - 0s 70us/sample - loss: 0.0027 - mean_squared_error: 0.0014\n",
      "Epoch 71/100\n",
      "357/357 [==============================] - 0s 76us/sample - loss: 0.0028 - mean_squared_error: 0.0015\n",
      "Epoch 72/100\n"
     ]
    },
    {
     "name": "stdout",
     "output_type": "stream",
     "text": [
      "357/357 [==============================] - 0s 73us/sample - loss: 0.0028 - mean_squared_error: 0.0014\n",
      "Epoch 73/100\n",
      "357/357 [==============================] - 0s 95us/sample - loss: 0.0029 - mean_squared_error: 0.0015\n",
      "Epoch 74/100\n",
      "357/357 [==============================] - 0s 62us/sample - loss: 0.0029 - mean_squared_error: 0.0016\n",
      "Epoch 75/100\n",
      "357/357 [==============================] - 0s 70us/sample - loss: 0.0028 - mean_squared_error: 0.0015\n",
      "Epoch 76/100\n",
      "357/357 [==============================] - 0s 64us/sample - loss: 0.0028 - mean_squared_error: 0.0015\n",
      "Epoch 77/100\n",
      "357/357 [==============================] - 0s 62us/sample - loss: 0.0028 - mean_squared_error: 0.0015\n",
      "Epoch 78/100\n",
      "357/357 [==============================] - 0s 59us/sample - loss: 0.0027 - mean_squared_error: 0.0014\n",
      "Epoch 79/100\n",
      "357/357 [==============================] - 0s 62us/sample - loss: 0.0026 - mean_squared_error: 0.0014\n",
      "Epoch 80/100\n",
      "357/357 [==============================] - 0s 73us/sample - loss: 0.0026 - mean_squared_error: 0.0014\n",
      "Epoch 81/100\n",
      "357/357 [==============================] - 0s 67us/sample - loss: 0.0026 - mean_squared_error: 0.0014\n",
      "Epoch 82/100\n",
      "357/357 [==============================] - 0s 64us/sample - loss: 0.0026 - mean_squared_error: 0.0014\n",
      "Epoch 83/100\n",
      "357/357 [==============================] - 0s 53us/sample - loss: 0.0026 - mean_squared_error: 0.0014\n",
      "Epoch 84/100\n",
      "357/357 [==============================] - 0s 64us/sample - loss: 0.0026 - mean_squared_error: 0.0014\n",
      "Epoch 85/100\n",
      "357/357 [==============================] - 0s 62us/sample - loss: 0.0026 - mean_squared_error: 0.0014\n",
      "Epoch 86/100\n",
      "357/357 [==============================] - 0s 67us/sample - loss: 0.0026 - mean_squared_error: 0.0014\n",
      "Epoch 87/100\n",
      "357/357 [==============================] - 0s 62us/sample - loss: 0.0026 - mean_squared_error: 0.0014\n",
      "Epoch 88/100\n",
      "357/357 [==============================] - 0s 67us/sample - loss: 0.0026 - mean_squared_error: 0.0014\n",
      "Epoch 89/100\n",
      "357/357 [==============================] - 0s 67us/sample - loss: 0.0026 - mean_squared_error: 0.0014\n",
      "Epoch 90/100\n",
      "357/357 [==============================] - 0s 59us/sample - loss: 0.0027 - mean_squared_error: 0.0015\n",
      "Epoch 91/100\n",
      "357/357 [==============================] - 0s 70us/sample - loss: 0.0026 - mean_squared_error: 0.0015\n",
      "Epoch 92/100\n",
      "357/357 [==============================] - 0s 64us/sample - loss: 0.0027 - mean_squared_error: 0.0015\n",
      "Epoch 93/100\n",
      "357/357 [==============================] - 0s 62us/sample - loss: 0.0028 - mean_squared_error: 0.0016\n",
      "Epoch 94/100\n",
      "357/357 [==============================] - 0s 64us/sample - loss: 0.0026 - mean_squared_error: 0.0014\n",
      "Epoch 95/100\n",
      "357/357 [==============================] - 0s 64us/sample - loss: 0.0027 - mean_squared_error: 0.0016\n",
      "Epoch 96/100\n",
      "357/357 [==============================] - 0s 62us/sample - loss: 0.0027 - mean_squared_error: 0.0016\n",
      "Epoch 97/100\n",
      "357/357 [==============================] - 0s 64us/sample - loss: 0.0027 - mean_squared_error: 0.0016\n",
      "Epoch 98/100\n",
      "357/357 [==============================] - 0s 62us/sample - loss: 0.0025 - mean_squared_error: 0.0013\n",
      "Epoch 99/100\n",
      "357/357 [==============================] - 0s 78us/sample - loss: 0.0021 - mean_squared_error: 9.2208e-04\n",
      "Epoch 100/100\n",
      "357/357 [==============================] - 0s 73us/sample - loss: 0.0021 - mean_squared_error: 9.4425e-04\n"
     ]
    },
    {
     "data": {
      "text/plain": [
       "<tensorflow.python.keras.callbacks.History at 0x1d88993e448>"
      ]
     },
     "execution_count": 17,
     "metadata": {},
     "output_type": "execute_result"
    }
   ],
   "source": [
    "model=keras.Sequential()\n",
    "#model.add(keras.layers.Dense(8,))\n",
    "model.add(keras.layers.Dense(4, activation='relu',kernel_regularizer=keras.regularizers.l2(0.001)))\n",
    "model.add(keras.layers.Dense(2, activation='relu',kernel_regularizer=keras.regularizers.l2(0.001)))\n",
    "#model.add(keras.layers.Dropout(0.5))\n",
    "model.add(keras.layers.Dense(1))\n",
    "\n",
    "\n",
    "model.compile(optimizer=tf.train.AdamOptimizer(0.003),\n",
    "              loss='mse',metrics=['mse'])\n",
    "\n",
    "model.fit(x_train, y_train, epochs=100, batch_size=35)"
   ]
  },
  {
   "cell_type": "raw",
   "metadata": {},
   "source": [
    "Predicting the values on test data and saving a csv file."
   ]
  },
  {
   "cell_type": "code",
   "execution_count": 18,
   "metadata": {
    "scrolled": true
   },
   "outputs": [],
   "source": [
    "final_predict=model.predict(x_test)\n",
    "y_final_predict = std_y.inverse_transform(final_predict)\n",
    "y_final_predict=(y_final_predict>0)*y_final_predict\n",
    "b=np.arange(90).reshape(90,1)\n",
    "c=np.c_[b,y_final_predict]\n",
    "np.savetxt('predict.csv', c, delimiter = ',')"
   ]
  },
  {
   "cell_type": "code",
   "execution_count": null,
   "metadata": {},
   "outputs": [],
   "source": []
  }
 ],
 "metadata": {
  "kernelspec": {
   "display_name": "Python 3",
   "language": "python",
   "name": "python3"
  },
  "language_info": {
   "codemirror_mode": {
    "name": "ipython",
    "version": 3
   },
   "file_extension": ".py",
   "mimetype": "text/x-python",
   "name": "python",
   "nbconvert_exporter": "python",
   "pygments_lexer": "ipython3",
   "version": "3.7.4"
  }
 },
 "nbformat": 4,
 "nbformat_minor": 2
}
